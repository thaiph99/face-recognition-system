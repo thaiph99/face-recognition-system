{
 "cells": [
  {
   "cell_type": "code",
   "execution_count": 1,
   "metadata": {},
   "outputs": [],
   "source": [
    "from random import choice\n",
    "from numpy import load\n",
    "from numpy import expand_dims\n",
    "from sklearn.preprocessing import LabelEncoder\n",
    "from sklearn.preprocessing import Normalizer\n",
    "from sklearn.svm import SVC\n",
    "from matplotlib import pyplot"
   ]
  },
  {
   "cell_type": "code",
   "execution_count": 2,
   "metadata": {},
   "outputs": [
    {
     "name": "stdout",
     "output_type": "stream",
     "text": [
      "<numpy.lib.npyio.NpzFile object at 0x7f7af4375cd0>\n",
      "(28, 160, 160, 3)\n"
     ]
    }
   ],
   "source": [
    "# load faces\n",
    "data = load('face.npz')\n",
    "print(data)\n",
    "testX_faces = data['arr_2']\n",
    "print(testX_faces.shape)\n",
    "\n",
    "# load face embeddings\n",
    "data = load('face_embeded.npz')\n",
    "trainX, trainy, testX, testy = data['arr_0'], data['arr_1'], data['arr_2'], data['arr_3']"
   ]
  },
  {
   "cell_type": "code",
   "execution_count": 3,
   "metadata": {},
   "outputs": [
    {
     "name": "stdout",
     "output_type": "stream",
     "text": [
      "[[ 0.60196054  0.14882272  0.15555789 ... -1.1727346  -0.34328187\n",
      "  -0.5571436 ]\n",
      " [ 0.47716382  0.4028573   0.05871259 ... -1.207365   -0.68603355\n",
      "  -0.23085637]\n",
      " [ 0.02803081 -0.64134204  0.37867126 ...  0.37813646  1.4596628\n",
      "   0.68580323]\n",
      " ...\n",
      " [ 0.32290208 -0.10251518 -0.8965526  ... -0.63231826  0.3069307\n",
      "  -0.67261505]\n",
      " [ 1.1196994  -0.90899134  0.366967   ... -1.4907615   0.284998\n",
      "  -0.10453577]\n",
      " [ 1.2606491   0.03201904 -0.0479348  ... -0.2734749   0.01028319\n",
      "  -0.37216014]]\n",
      "[[ 0.05685161  0.01405543  0.01469152 ... -0.11075784 -0.03242094\n",
      "  -0.05261892]\n",
      " [ 0.04459979  0.03765447  0.00548778 ... -0.11285061 -0.06412254\n",
      "  -0.0215778 ]\n",
      " [ 0.00258356 -0.0591117   0.03490166 ...  0.03485237  0.1345353\n",
      "   0.06320963]\n",
      " ...\n",
      " [ 0.02801363 -0.00889379 -0.07778113 ... -0.05485727  0.02662802\n",
      "  -0.05835325]\n",
      " [ 0.11044382 -0.08966021  0.03619654 ... -0.1470443   0.02811136\n",
      "  -0.0103111 ]\n",
      " [ 0.10803583  0.00274399 -0.00410794 ... -0.02343641  0.00088126\n",
      "  -0.03189359]]\n"
     ]
    },
    {
     "data": {
      "text/plain": "(45, 128)"
     },
     "execution_count": 3,
     "metadata": {},
     "output_type": "execute_result"
    }
   ],
   "source": [
    "in_encoder = Normalizer(norm='l2')\n",
    "print(trainX)\n",
    "trainX = in_encoder.transform(trainX)\n",
    "testX = in_encoder.transform(testX)\n",
    "print(trainX)\n",
    "trainX.shape"
   ]
  },
  {
   "cell_type": "code",
   "execution_count": 4,
   "metadata": {},
   "outputs": [
    {
     "name": "stdout",
     "output_type": "stream",
     "text": [
      "['Thanh Tung' 'Thanh Tung' 'Thanh Tung' 'Thanh Tung' 'Thanh Tung'\n",
      " 'Thanh Tung' 'Xuan Thai' 'Xuan Thai' 'Xuan Thai' 'Xuan Thai' 'Xuan Thai'\n",
      " 'Xuan Thai' 'Tung' 'Tung' 'Tung' 'Tung' 'Tung' 'Tung' 'Minh' 'Minh'\n",
      " 'Minh' 'Minh' 'Minh' 'Minh' 'Tu' 'Tu' 'Tu' 'Tu' 'Tu' 'Tu' 'Thai' 'Thai'\n",
      " 'Thai' 'Thai' 'Thai' 'Thai' 'Thai' 'Thai' 'Thai' 'Hoang Ngoc'\n",
      " 'Hoang Ngoc' 'Hoang Ngoc' 'Hoang Ngoc' 'Hoang Ngoc' 'Hoang Ngoc']\n",
      "['Thanh Tung' 'Thanh Tung' 'Thanh Tung' 'Thanh Tung' 'Thanh Tung'\n",
      " 'Thanh Tung' 'Xuan Thai' 'Xuan Thai' 'Xuan Thai' 'Xuan Thai' 'Xuan Thai'\n",
      " 'Xuan Thai' 'Tung' 'Tung' 'Tung' 'Tung' 'Tung' 'Tung' 'Minh' 'Minh'\n",
      " 'Minh' 'Minh' 'Minh' 'Minh' 'Tu' 'Tu' 'Tu' 'Tu' 'Tu' 'Tu' 'Thai' 'Thai'\n",
      " 'Thai' 'Thai' 'Thai' 'Thai' 'Thai' 'Thai' 'Thai' 'Hoang Ngoc'\n",
      " 'Hoang Ngoc' 'Hoang Ngoc' 'Hoang Ngoc' 'Hoang Ngoc' 'Hoang Ngoc']\n",
      "[3 3 3 3 3 3 6 6 6 6 6 6 5 5 5 5 5 5 1 1 1 1 1 1 4 4 4 4 4 4 2 2 2 2 2 2 2\n",
      " 2 2 0 0 0 0 0 0]\n"
     ]
    }
   ],
   "source": [
    "# label encode targets\n",
    "out_encoder = LabelEncoder()\n",
    "print(trainy)\n",
    "(out_encoder.fit(trainy))\n",
    "print(trainy)\n",
    "trainy = out_encoder.transform(trainy)\n",
    "print(trainy)\n",
    "testy = out_encoder.transform(testy)\n",
    "# fit model"
   ]
  }
 ],
 "metadata": {
  "kernelspec": {
   "display_name": "Python 3.8.5 64-bit",
   "name": "python385jvsc74a57bd0916dbcbb3f70747c44a77c7bcd40155683ae19c65e1c03b4aa3499c5328201f1"
  },
  "language_info": {
   "codemirror_mode": {
    "name": "ipython",
    "version": 3
   },
   "file_extension": ".py",
   "mimetype": "text/x-python",
   "name": "python",
   "nbconvert_exporter": "python",
   "pygments_lexer": "ipython3",
   "version": "3.8.5"
  },
  "metadata": {
   "interpreter": {
    "hash": "916dbcbb3f70747c44a77c7bcd40155683ae19c65e1c03b4aa3499c5328201f1"
   }
  },
  "orig_nbformat": 2
 },
 "nbformat": 4,
 "nbformat_minor": 2
}