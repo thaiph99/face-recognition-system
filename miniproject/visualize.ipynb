{
 "cells": [
  {
   "cell_type": "code",
   "execution_count": 1,
   "metadata": {},
   "outputs": [],
   "source": [
    "from random import choice\n",
    "from numpy import load\n",
    "from numpy import expand_dims\n",
    "from sklearn.preprocessing import LabelEncoder\n",
    "from sklearn.preprocessing import Normalizer\n",
    "from sklearn.svm import SVC\n",
    "from matplotlib import pyplot"
   ]
  },
  {
   "cell_type": "code",
   "execution_count": 8,
   "metadata": {},
   "outputs": [
    {
     "name": "stdout",
     "output_type": "stream",
     "text": [
      "<numpy.lib.npyio.NpzFile object at 0x7f6772af7850>\n",
      "(24, 160, 160, 3)\n"
     ]
    }
   ],
   "source": [
    "# load faces\n",
    "data = load('face.npz')\n",
    "print(data)\n",
    "testX_faces = data['arr_2']\n",
    "print(testX_faces.shape)\n",
    "\n",
    "# load face embeddings\n",
    "data = load('face_embeded.npz')\n",
    "trainX, trainy, testX, testy = data['arr_0'], data['arr_1'], data['arr_2'], data['arr_3']"
   ]
  },
  {
   "cell_type": "code",
   "execution_count": 6,
   "metadata": {},
   "outputs": [
    {
     "data": {
      "text/plain": "(36, 128)"
     },
     "execution_count": 6,
     "metadata": {},
     "output_type": "execute_result"
    }
   ],
   "source": [
    "in_encoder = Normalizer(norm='l2')\n",
    "trainX = in_encoder.transform(trainX)\n",
    "testX = in_encoder.transform(testX)\n",
    "trainX.shape"
   ]
  },
  {
   "cell_type": "code",
   "execution_count": 4,
   "metadata": {},
   "outputs": [
    {
     "name": "stdout",
     "output_type": "stream",
     "text": [
      "['Thanh Tung' 'Thanh Tung' 'Thanh Tung' 'Thanh Tung' 'Thanh Tung'\n",
      " 'Thanh Tung' 'Xuan Thai' 'Xuan Thai' 'Xuan Thai' 'Xuan Thai' 'Xuan Thai'\n",
      " 'Xuan Thai' 'Tung' 'Tung' 'Tung' 'Tung' 'Tung' 'Tung' 'Minh' 'Minh'\n",
      " 'Minh' 'Minh' 'Minh' 'Minh' 'Tu' 'Tu' 'Tu' 'Tu' 'Tu' 'Tu' 'Hoang Ngoc'\n",
      " 'Hoang Ngoc' 'Hoang Ngoc' 'Hoang Ngoc' 'Hoang Ngoc' 'Hoang Ngoc']\n",
      "['Thanh Tung' 'Thanh Tung' 'Thanh Tung' 'Thanh Tung' 'Thanh Tung'\n",
      " 'Thanh Tung' 'Xuan Thai' 'Xuan Thai' 'Xuan Thai' 'Xuan Thai' 'Xuan Thai'\n",
      " 'Xuan Thai' 'Tung' 'Tung' 'Tung' 'Tung' 'Tung' 'Tung' 'Minh' 'Minh'\n",
      " 'Minh' 'Minh' 'Minh' 'Minh' 'Tu' 'Tu' 'Tu' 'Tu' 'Tu' 'Tu' 'Hoang Ngoc'\n",
      " 'Hoang Ngoc' 'Hoang Ngoc' 'Hoang Ngoc' 'Hoang Ngoc' 'Hoang Ngoc']\n",
      "[2 2 2 2 2 2 5 5 5 5 5 5 4 4 4 4 4 4 1 1 1 1 1 1 3 3 3 3 3 3 0 0 0 0 0 0]\n"
     ]
    }
   ],
   "source": [
    "# label encode targets\n",
    "out_encoder = LabelEncoder()\n",
    "print(trainy)\n",
    "(out_encoder.fit(trainy))\n",
    "print(trainy)\n",
    "trainy = out_encoder.transform(trainy)\n",
    "print(trainy)\n",
    "testy = out_encoder.transform(testy)\n",
    "# fit model"
   ]
  }
 ],
 "metadata": {
  "kernelspec": {
   "display_name": "Python 3.8.5 64-bit",
   "name": "python385jvsc74a57bd031f2aee4e71d21fbe5cf8b01ff0e069b9275f58929596ceb00d14d90e3e16cd6"
  },
  "language_info": {
   "codemirror_mode": {
    "name": "ipython",
    "version": 3
   },
   "file_extension": ".py",
   "mimetype": "text/x-python",
   "name": "python",
   "nbconvert_exporter": "python",
   "pygments_lexer": "ipython3",
   "version": "3.8.5"
  },
  "metadata": {
   "interpreter": {
    "hash": "31f2aee4e71d21fbe5cf8b01ff0e069b9275f58929596ceb00d14d90e3e16cd6"
   }
  },
  "orig_nbformat": 2
 },
 "nbformat": 4,
 "nbformat_minor": 2
}