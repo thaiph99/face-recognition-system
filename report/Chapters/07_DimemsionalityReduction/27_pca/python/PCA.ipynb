{
 "cells": [
  {
   "cell_type": "markdown",
   "metadata": {},
   "source": [
    "# Chuyển trục "
   ]
  },
  {
   "cell_type": "code",
   "execution_count": 1,
   "metadata": {
    "collapsed": true
   },
   "outputs": [],
   "source": [
    "from matplotlib import rc\n",
    "rc('font',**{'family':'sans-serif','sans-serif':['Helvetica']})\n",
    "## for Palatino and other serif fonts use:\n",
    "#rc('font',**{'family':'serif','serif':['Palatino']})\n",
    "rc('text', usetex=True)"
   ]
  },
  {
   "cell_type": "code",
   "execution_count": 2,
   "metadata": {},
   "outputs": [
    {
     "ename": "AttributeError",
     "evalue": "'tuple' object has no attribute 'set_ticks'",
     "output_type": "error",
     "traceback": [
      "\u001b[0;31m --  --  --  --  --  --  --  --  --  --  --  --  --  --  --  --  --  --  --  --  --  --  --  --  --  --  --  --  --  --  --  --  --  --  --  --  -- -\u001b[0m",
      "\u001b[0;31mAttributeError\u001b[0m                            Traceback (most recent call last)",
      "\u001b[0;32m<ipython-input-2-b778742a4bed>\u001b[0m in \u001b[0;36m<module>\u001b[0;34m()\u001b[0m\n\u001b[1;32m     31\u001b[0m \u001b[0mcur_axes\u001b[0m\u001b[0;34m.\u001b[0m\u001b[0maxes\u001b[0m\u001b[0;34m.\u001b[0m\u001b[0mget_xaxis\u001b[0m\u001b[0;34m(\u001b[0m\u001b[0;34m)\u001b[0m\u001b[0;34m.\u001b[0m\u001b[0mset_ticks\u001b[0m\u001b[0;34m(\u001b[0m\u001b[0;34m[\u001b[0m\u001b[0;34m]\u001b[0m\u001b[0;34m)\u001b[0m\u001b[0;34m\u001b[0m\u001b[0m\n\u001b[1;32m     32\u001b[0m \u001b[0mcur_axes\u001b[0m\u001b[0;34m.\u001b[0m\u001b[0maxes\u001b[0m\u001b[0;34m.\u001b[0m\u001b[0mget_yaxis\u001b[0m\u001b[0;34m\u001b[0m\u001b[0m\n\u001b[0;32m -- -> 33\u001b[0;31m \u001b[0;34m(\u001b[0m\u001b[0;34m)\u001b[0m\u001b[0;34m.\u001b[0m\u001b[0mset_ticks\u001b[0m\u001b[0;34m(\u001b[0m\u001b[0;34m[\u001b[0m\u001b[0;34m]\u001b[0m\u001b[0;34m)\u001b[0m\u001b[0;34m\u001b[0m\u001b[0m\n\u001b[0m\u001b[1;32m     34\u001b[0m \u001b[0;34m\u001b[0m\u001b[0m\n\u001b[1;32m     35\u001b[0m \u001b[0mplt\u001b[0m\u001b[0;34m.\u001b[0m\u001b[0mxlabel\u001b[0m\u001b[0;34m(\u001b[0m\u001b[0;34m'$x_1$'\u001b[0m\u001b[0;34m,\u001b[0m \u001b[0mfontsize\u001b[0m \u001b[0;34m=\u001b[0m \u001b[0;36m20\u001b[0m\u001b[0;34m)\u001b[0m\u001b[0;34m\u001b[0m\u001b[0m\n",
      "\u001b[0;31mAttributeError\u001b[0m: 'tuple' object has no attribute 'set_ticks'"
     ]
    }
   ],
   "source": [
    "# generate data\n",
    "# list of points \n",
    "from __future__ import print_function\n",
    "import numpy as np \n",
    "import matplotlib.pyplot as plt\n",
    "from scipy.spatial.distance import cdist\n",
    "# np.random.seed(22)\n",
    "\n",
    "means = [0, 0]\n",
    "cov = [[1, 0], [0, .05]]\n",
    "N = 50\n",
    "X = np.random.multivariate_normal(means, cov, N)\n",
    "# U = np.array([[0.6, 0.8], [0.8, -0.6]])\n",
    "\n",
    "# X = X.dot(U)\n",
    "plt.plot(X[:, 0], X[:, 1], 'bo', markersize = 8, alpha = .8)\n",
    "# plt.plot(X1[:, 0], X1[:, 1], 'ro', markersize = 8, alpha = .8)\n",
    "plt.axis('equal')\n",
    "# axis limits\n",
    "plt.ylim(0, 4)\n",
    "plt.xlim(2, 6)\n",
    "\n",
    "x1 = np.arange(0, 10, 0.1)\n",
    "y1 = .5*x1 \n",
    "\n",
    "plt.plot(x1, y1, 'r', linewidth = 3)\n",
    "\n",
    "\n",
    "# hide tikcs \n",
    "cur_axes = plt.gca()\n",
    "cur_axes.axes.get_xaxis().set_ticks([])\n",
    "cur_axes.axes.get_yaxis\n",
    "().set_ticks([])\n",
    "\n",
    "plt.xlabel('$x_1$', fontsize = 20)\n",
    "plt.ylabel('$x_2$', fontsize = 20)\n",
    "# pdf.savefig()\n",
    "plt.show()"
   ]
  },
  {
   "cell_type": "code",
   "execution_count": 3,
   "metadata": {},
   "outputs": [
    {
     "name": "stdout",
     "output_type": "stream",
     "text": [
      "-0.32/-0.12/0, \n",
      "-0.06/-0.38/1, \n",
      "1.27/-0.20/2, \n",
      "-0.31/0.10/3, \n",
      "0.58/-0.08/4, \n",
      "-0.79/0.15/5, \n",
      "0.31/0.13/6, \n",
      "-0.99/-0.07/7, \n",
      "0.38/0.04/8, \n",
      "0.12/-0.42/9, \n",
      "0.07/0.09/10, \n",
      "1.09/0.03/11, \n",
      "0.29/0.02/12, \n",
      "-0.17/0.40/13, \n",
      "0.36/0.19/14, \n",
      "0.14/-0.20/15, \n",
      "-0.38/-0.28/16, \n",
      "-1.61/-0.44/17, \n",
      "-0.52/-0.06/18, \n",
      "0.43/-0.19/19, \n",
      "1.56/0.07/20, \n",
      "1.58/0.21/21, \n",
      "-0.83/-0.34/22, \n",
      "0.27/-0.19/23, \n",
      "-0.29/0.09/24, \n",
      "-2.41/0.27/25, \n",
      "-2.28/0.31/26, \n",
      "-0.20/-0.12/27, \n",
      "-0.64/0.33/28, \n",
      "1.06/-0.07/29, \n",
      "-0.91/-0.19/30, \n",
      "-0.65/0.09/31, \n",
      "-0.68/-0.27/32, \n",
      "-1.07/-0.63/33, \n",
      "-2.43/0.06/34, \n",
      "-0.97/0.27/35, \n",
      "1.40/0.01/36, \n",
      "-0.46/-0.27/37, \n",
      "0.11/-0.45/38, \n",
      "-0.08/0.09/39, \n",
      "-1.81/0.04/40, \n",
      "0.44/0.01/41, \n",
      "-2.40/-0.06/42, \n",
      "0.74/-0.15/43, \n",
      "-1.05/-0.17/44, \n",
      "-0.59/-0.07/45, \n",
      "-0.65/0.38/46, \n",
      "0.35/0.50/47, \n",
      "-1.73/0.39/48, \n",
      "-1.04/0.11/49, \n"
     ]
    }
   ],
   "source": [
    "\n",
    "\n",
    "\n",
    "for n in range(N):\n",
    "    print('%.2f/%.2f/%d, ' %(X[n, 0], X[n, 1], n)),"
   ]
  },
  {
   "cell_type": "code",
   "execution_count": 49,
   "metadata": {},
   "outputs": [
    {
     "data": {
      "image/png": "[encoded data removed]",
      "text/plain": [
       "<matplotlib.figure.Figure at 0x10a67d410>"
      ]
     },
     "metadata": {},
     "output_type": "display_data"
    }
   ],
   "source": [
    "\n"
   ]
  },
  {
   "cell_type": "markdown",
   "metadata": {
    "collapsed": true
   },
   "source": [
    "\\\\[\n",
    "\\begin{eqnarray}\n",
    "J &=& \\frac{1}{N} \\|\\| \\bar{\\mathbf{U}}\\_K^T (\\mathbf{X} -   \\bar{\\mathbf{x}}\\mathbf{1})^T\\|\\|\\_F^2 = \\frac{1}{N} \\|\\|\\bar{\\mathbf{U}}\\_K^T\\hat{\\mathbf{X}} \\|\\|\\_F^2 \\\\\\\n",
    "&=& \\frac{1}{N} \\|\\|\\hat{\\mathbf{X}}^T \\bar{\\mathbf{U}}\\_K \\|\\|\\_F^2 = \n",
    "\\frac{1}{N}\\sum\\_{i = K+1}^D \\|\\|\\hat{\\mathbf{X}}^T\\mathbf{u}_i \\|\\|_2^2 \\\\\\\n",
    "&=& \\frac{1}{N} \\sum_{i=K+1}^D \\mathbf{u}_i^T\\hat{\\mathbf{X}}\\hat{\\mathbf{X}}^T \\mathbf{u}_i \\\\\\\n",
    "&=& \\sum_{i=K+1}^T \\mathbf{u}_i^T\\mathbf{S} \\mathbf{u}_i\n",
    "\\end{eqnarray}\n",
    "\\\\]\n"
   ]
  },
  {
   "cell_type": "markdown",
   "metadata": {
    "collapsed": true
   },
   "source": [
    "\\\\[\n",
    "\\begin{eqnarray}\n",
    "\\max_{\\mathbf{u}_k} & \\mathbf{u}_k^T\\mathbf{Su}_k \\\\\\\n",
    "\\text{s.t.} & \\mathbf{u}_k^T\\mathbf{u}_k = 1; \\mathbf{u}_k^T\\mathbf{u}_i = 1, i = 1,\\dots, k -1\n",
    "\\end{eqnarray}\n",
    "\\\\]"
   ]
  },
  {
   "cell_type": "code",
   "execution_count": null,
   "metadata": {
    "collapsed": true
   },
   "outputs": [],
   "source": []
  }
 ],
 "metadata": {
  "kernelspec": {
   "display_name": "Python 2",
   "language": "python",
   "name": "python2"
  },
  "language_info": {
   "codemirror_mode": {
    "name": "ipython",
    "version": 2
   },
   "file_extension": ".py",
   "mimetype": "text/x-python",
   "name": "python",
   "nbconvert_exporter": "python",
   "pygments_lexer": "ipython2",
   "version": "2.7.13"
  }
 },
 "nbformat": 4,
 "nbformat_minor": 2
}
